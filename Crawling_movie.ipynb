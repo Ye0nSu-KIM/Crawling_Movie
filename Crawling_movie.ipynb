{
 "cells": [
  {
   "cell_type": "markdown",
   "metadata": {},
   "source": [
    "RA work for Professor Albert Youngil Kim \n",
    "\n",
    "Title : Worker productivity and recognition\n",
    "Work Description : Gathering information about Oscar nominees and their filmographies from Wikipedia and IMDB using an Application Programming Interface (API)"
   ]
  },
  {
   "cell_type": "code",
   "execution_count": 16,
   "metadata": {},
   "outputs": [],
   "source": [
    "import pandas as pd\n",
    "from imdb import IMDb\n",
    "import time\n",
    "from imdb import Cinemagoer\n",
    "import imdb"
   ]
  },
  {
   "cell_type": "code",
   "execution_count": null,
   "metadata": {},
   "outputs": [],
   "source": [
    "df_list = []\n",
    "for i in range(2, 13):\n",
    "    url= 'https://en.wikipedia.org/wiki/Academy_Award_for_Best_Actor#Winners_and_nominees'\n",
    "    df_list.append(pd.read_html(url)[i])\n",
    "\n",
    "df = pd.concat(df_list)"
   ]
  },
  {
   "cell_type": "code",
   "execution_count": null,
   "metadata": {},
   "outputs": [],
   "source": [
    "df['id'] = 0"
   ]
  },
  {
   "cell_type": "code",
   "execution_count": null,
   "metadata": {},
   "outputs": [],
   "source": [
    "for actor in df.Actor.loc[df.id==0]:\n",
    "    try: \n",
    "        search = ia.search_person(actor)\n",
    "        name_id = search[0].personID\n",
    "        df.id.loc[df.Actor==actor] = name_id\n",
    "    except IndexError:\n",
    "        pass"
   ]
  },
  {
   "cell_type": "code",
   "execution_count": null,
   "metadata": {},
   "outputs": [],
   "source": [
    "len(df.Actor.loc[df.id==0]) "
   ]
  },
  {
   "cell_type": "code",
   "execution_count": null,
   "metadata": {},
   "outputs": [],
   "source": [
    "df['id'] = 'nm' + df['id'].astype(str)"
   ]
  },
  {
   "cell_type": "code",
   "execution_count": null,
   "metadata": {},
   "outputs": [],
   "source": [
    "df.to_csv(\"best_actor.csv\", index = False)"
   ]
  },
  {
   "cell_type": "code",
   "execution_count": 17,
   "metadata": {},
   "outputs": [],
   "source": [
    "df = pd.read_csv('best_actor.csv', index_col=0)\n",
    "df_index = df.set_index(df['id'])\n",
    "df_index = df_index.loc[~df_index.index.duplicated(keep='first')]\n",
    "df_index.index.name = 'id_'\n",
    "df_index.reset_index(inplace=True)\n",
    "df_index.drop(columns=['id_'], inplace=True)"
   ]
  },
  {
   "cell_type": "code",
   "execution_count": null,
   "metadata": {},
   "outputs": [],
   "source": [
    "moviesDB = imdb.IMDb()\n",
    "ia = Cinemagoer() \n",
    "\n",
    "out = pd.DataFrame(columns=['Name', 'Birthdate', 'Deathdate', 'Title', 'Type', 'Year', 'Award Year', \\\n",
    "                            'Oscar', 'Cannes', 'Berlin', 'Venice', 'Golden Globe', 'IMDB Rating', \\\n",
    "                            'Actor', 'Producer', 'Director', 'Writer', 'Budget', 'Box Office', 'Running Time'])\n",
    "\n",
    "j = 0\n",
    "for p, id_ in zip(df_index['Actor'], df_index['id']):\n",
    "    ActorId = id_[2:]\n",
    "    person = moviesDB.get_person(ActorId)   \n",
    "    actor_work = moviesDB.get_person_filmography(ActorId)\n",
    "    \n",
    "    try:\n",
    "        actor_work['data']['filmography']\n",
    "    \n",
    "    except KeyError:\n",
    "        time.sleep(30)\n",
    "        actor_work = moviesDB.get_person_filmography(ActorId)\n",
    "\n",
    "        \n",
    "    for movie in actor_work['data']['filmography']['actor']:\n",
    "        movie_id = movie.movieID\n",
    "        tmp = ia.get_movie(movie_id)\n",
    "        out.loc[j, 'Name'] = p\n",
    "        out.loc[j, 'Award Year'] = 0\n",
    "        out.loc[j, 'Oscar'] = 0\n",
    "        out.loc[j, 'Cannes'] = 0\n",
    "        out.loc[j, 'Berlin'] = 0\n",
    "        out.loc[j, 'Venice'] = 0\n",
    "        out.loc[j, 'Golden Globe'] = 0\n",
    "        out.loc[j, 'Actor'] = 0\n",
    "        out.loc[j, 'Producer'] = 0\n",
    "        out.loc[j, 'Director'] = 0\n",
    "        out.loc[j, 'Writer'] = 0\n",
    "        out.loc[j, 'Budget'] = 0\n",
    "        out.loc[j, 'Box Office'] = 0 \n",
    "        \n",
    "        try:\n",
    "            out.loc[j, 'Birthdate'] = person['birth date']\n",
    "        except KeyError:\n",
    "            continue\n",
    "        \n",
    "        try:\n",
    "            out.loc[j, 'Deathdate'] = person['death date']\n",
    "        except KeyError:\n",
    "            continue\n",
    "        \n",
    "        try: \n",
    "            out.loc[j, 'Title'] = tmp['title']\n",
    "        except KeyError:\n",
    "            continue\n",
    "        \n",
    "        try:\n",
    "            out.loc[j, 'Type'] = tmp['kind']\n",
    "        except KeyError:\n",
    "            continue\n",
    "        \n",
    "        try:\n",
    "            out.loc[j, 'Year'] = tmp['year']\n",
    "        except KeyError:\n",
    "            continue\n",
    "        \n",
    "        try:\n",
    "            out.loc[j, 'IMDB Rating'] = tmp['rating']\n",
    "        except KeyError:\n",
    "            continue            \n",
    "        \n",
    "        try:\n",
    "            out.loc[j, 'Running Time'] = tmp['runtimes'][0]\n",
    "        except KeyError:\n",
    "            continue\n",
    "        \n",
    "        try:\n",
    "            for i in range(len(tmp['cast'])):\n",
    "                if p in tmp['cast'][i]['name']: \n",
    "                    out.loc[j, 'Actor'] = 1\n",
    " \n",
    "        except KeyError:\n",
    "            continue\n",
    "        \n",
    "        try:\n",
    "            for i in range(len(tmp['producer'])):\n",
    "                if p in tmp['producer'][0]['name']:\n",
    "                    out.loc[j, 'Producer'] = 1\n",
    "\n",
    "        except KeyError:\n",
    "            continue\n",
    "        \n",
    "        try:\n",
    "            for i in range(len(tmp['director'])):    \n",
    "                if p in tmp['director'][0]['name']:\n",
    "                    out.loc[j, 'Director'] = 1\n",
    "        except KeyError:\n",
    "            continue\n",
    "        \n",
    "        try:\n",
    "            for i in range(len(tmp['writer'])):\n",
    "                if p in tmp['writer'][0]['name']:\n",
    "                    out.loc[j, 'Writer'] = 1\n",
    "        \n",
    "        except KeyError:\n",
    "            continue\n",
    "\n",
    "        j += 1"
   ]
  },
  {
   "cell_type": "code",
   "execution_count": 4,
   "metadata": {},
   "outputs": [
    {
     "data": {
      "text/html": [
       "<div>\n",
       "<style scoped>\n",
       "    .dataframe tbody tr th:only-of-type {\n",
       "        vertical-align: middle;\n",
       "    }\n",
       "\n",
       "    .dataframe tbody tr th {\n",
       "        vertical-align: top;\n",
       "    }\n",
       "\n",
       "    .dataframe thead th {\n",
       "        text-align: right;\n",
       "    }\n",
       "</style>\n",
       "<table border=\"1\" class=\"dataframe\">\n",
       "  <thead>\n",
       "    <tr style=\"text-align: right;\">\n",
       "      <th></th>\n",
       "      <th>Name</th>\n",
       "      <th>Birthdate</th>\n",
       "      <th>Deathdate</th>\n",
       "      <th>Title</th>\n",
       "      <th>Type</th>\n",
       "      <th>Year</th>\n",
       "      <th>Award Year</th>\n",
       "      <th>Oscar</th>\n",
       "      <th>Cannes</th>\n",
       "      <th>Berlin</th>\n",
       "      <th>Venice</th>\n",
       "      <th>Golden Globe</th>\n",
       "      <th>IMDB Rating</th>\n",
       "      <th>Actor</th>\n",
       "      <th>Producer</th>\n",
       "      <th>Director</th>\n",
       "      <th>Writer</th>\n",
       "      <th>Budget</th>\n",
       "      <th>Box Office</th>\n",
       "      <th>Running Time</th>\n",
       "    </tr>\n",
       "  </thead>\n",
       "  <tbody>\n",
       "  </tbody>\n",
       "</table>\n",
       "</div>"
      ],
      "text/plain": [
       "Empty DataFrame\n",
       "Columns: [Name, Birthdate, Deathdate, Title, Type, Year, Award Year, Oscar, Cannes, Berlin, Venice, Golden Globe, IMDB Rating, Actor, Producer, Director, Writer, Budget, Box Office, Running Time]\n",
       "Index: []"
      ]
     },
     "execution_count": 4,
     "metadata": {},
     "output_type": "execute_result"
    }
   ],
   "source": [
    "out"
   ]
  },
  {
   "cell_type": "code",
   "execution_count": 89,
   "metadata": {},
   "outputs": [],
   "source": [
    "out.to_csv('./out.csv') # 실행한 것 까지 저장"
   ]
  },
  {
   "cell_type": "code",
   "execution_count": 102,
   "metadata": {
    "scrolled": true
   },
   "outputs": [
    {
     "data": {
      "text/html": [
       "<div>\n",
       "<style scoped>\n",
       "    .dataframe tbody tr th:only-of-type {\n",
       "        vertical-align: middle;\n",
       "    }\n",
       "\n",
       "    .dataframe tbody tr th {\n",
       "        vertical-align: top;\n",
       "    }\n",
       "\n",
       "    .dataframe thead th {\n",
       "        text-align: right;\n",
       "    }\n",
       "</style>\n",
       "<table border=\"1\" class=\"dataframe\">\n",
       "  <thead>\n",
       "    <tr style=\"text-align: right;\">\n",
       "      <th></th>\n",
       "      <th>Year</th>\n",
       "      <th>Actor</th>\n",
       "      <th>Role(s)</th>\n",
       "      <th>Film</th>\n",
       "      <th>Ref.</th>\n",
       "      <th>Unnamed: 5</th>\n",
       "      <th>id</th>\n",
       "    </tr>\n",
       "  </thead>\n",
       "  <tbody>\n",
       "    <tr>\n",
       "      <th>234</th>\n",
       "      <td>2020/21[103] (93rd)</td>\n",
       "      <td>Riz Ahmed</td>\n",
       "      <td>Ruben Stone</td>\n",
       "      <td>Sound of Metal</td>\n",
       "      <td>[104]</td>\n",
       "      <td>NaN</td>\n",
       "      <td>nm1981893</td>\n",
       "    </tr>\n",
       "  </tbody>\n",
       "</table>\n",
       "</div>"
      ],
      "text/plain": [
       "                    Year      Actor      Role(s)            Film   Ref.  \\\n",
       "234  2020/21[103] (93rd)  Riz Ahmed  Ruben Stone  Sound of Metal  [104]   \n",
       "\n",
       "    Unnamed: 5         id  \n",
       "234        NaN  nm1981893  "
      ]
     },
     "execution_count": 102,
     "metadata": {},
     "output_type": "execute_result"
    }
   ],
   "source": [
    "df_index.loc[df_index.Actor==p] # 어디서 오류 났는지 점검 후 다시 인덱스 어디부터 실행시킬지 설정하기 "
   ]
  },
  {
   "cell_type": "code",
   "execution_count": 91,
   "metadata": {},
   "outputs": [
    {
     "data": {
      "text/plain": [
       "Year          2020/21[103] (93rd)\n",
       "Actor                 Steven Yeun\n",
       "Role(s)                  Jacob Yi\n",
       "Film                       Minari\n",
       "Ref.                        [104]\n",
       "Unnamed: 5                    NaN\n",
       "id                      nm3081796\n",
       "Name: 236, dtype: object"
      ]
     },
     "execution_count": 91,
     "metadata": {},
     "output_type": "execute_result"
    }
   ],
   "source": [
    "end_idx = df_index.loc[df_index.Actor==p].index\n",
    "\n",
    "df_index.iloc[end_idx[0]]"
   ]
  },
  {
   "cell_type": "code",
   "execution_count": 85,
   "metadata": {
    "scrolled": true
   },
   "outputs": [
    {
     "data": {
      "text/plain": [
       "228"
      ]
     },
     "execution_count": 85,
     "metadata": {},
     "output_type": "execute_result"
    }
   ],
   "source": [
    "# 122, 133, 134, 180, 227, 228\n",
    "end_idx[0]"
   ]
  },
  {
   "cell_type": "code",
   "execution_count": 94,
   "metadata": {},
   "outputs": [
    {
     "data": {
      "text/html": [
       "<div>\n",
       "<style scoped>\n",
       "    .dataframe tbody tr th:only-of-type {\n",
       "        vertical-align: middle;\n",
       "    }\n",
       "\n",
       "    .dataframe tbody tr th {\n",
       "        vertical-align: top;\n",
       "    }\n",
       "\n",
       "    .dataframe thead th {\n",
       "        text-align: right;\n",
       "    }\n",
       "</style>\n",
       "<table border=\"1\" class=\"dataframe\">\n",
       "  <thead>\n",
       "    <tr style=\"text-align: right;\">\n",
       "      <th></th>\n",
       "      <th>Year</th>\n",
       "      <th>Actor</th>\n",
       "      <th>Role(s)</th>\n",
       "      <th>Film</th>\n",
       "      <th>Ref.</th>\n",
       "      <th>Unnamed: 5</th>\n",
       "      <th>id</th>\n",
       "    </tr>\n",
       "  </thead>\n",
       "  <tbody>\n",
       "    <tr>\n",
       "      <th>227</th>\n",
       "      <td>2017 (90th)</td>\n",
       "      <td>Timoth_e Chalamet</td>\n",
       "      <td>Elio Perlman</td>\n",
       "      <td>Call Me by Your Name</td>\n",
       "      <td>[100]</td>\n",
       "      <td>NaN</td>\n",
       "      <td>nm3154303</td>\n",
       "    </tr>\n",
       "    <tr>\n",
       "      <th>228</th>\n",
       "      <td>2017 (90th)</td>\n",
       "      <td>Daniel Kaluuya</td>\n",
       "      <td>Chris Washington</td>\n",
       "      <td>Get Out</td>\n",
       "      <td>[100]</td>\n",
       "      <td>NaN</td>\n",
       "      <td>nm2257207</td>\n",
       "    </tr>\n",
       "    <tr>\n",
       "      <th>229</th>\n",
       "      <td>2018 (91st)</td>\n",
       "      <td>Rami Malek</td>\n",
       "      <td>Freddie Mercury</td>\n",
       "      <td>Bohemian Rhapsody</td>\n",
       "      <td>[101]</td>\n",
       "      <td>NaN</td>\n",
       "      <td>nm1785339</td>\n",
       "    </tr>\n",
       "    <tr>\n",
       "      <th>230</th>\n",
       "      <td>2018 (91st)</td>\n",
       "      <td>Willem Dafoe</td>\n",
       "      <td>Vincent van Gogh</td>\n",
       "      <td>At Eternity's Gate</td>\n",
       "      <td>[101]</td>\n",
       "      <td>NaN</td>\n",
       "      <td>nm0000353</td>\n",
       "    </tr>\n",
       "    <tr>\n",
       "      <th>231</th>\n",
       "      <td>2019 (92nd)</td>\n",
       "      <td>Antonio Banderas</td>\n",
       "      <td>Salvador Mallo</td>\n",
       "      <td>Pain and Glory</td>\n",
       "      <td>[102]</td>\n",
       "      <td>NaN</td>\n",
       "      <td>nm0000104</td>\n",
       "    </tr>\n",
       "    <tr>\n",
       "      <th>232</th>\n",
       "      <td>2019 (92nd)</td>\n",
       "      <td>Adam Driver</td>\n",
       "      <td>Charlie Barber</td>\n",
       "      <td>Marriage Story</td>\n",
       "      <td>[102]</td>\n",
       "      <td>NaN</td>\n",
       "      <td>nm3485845</td>\n",
       "    </tr>\n",
       "    <tr>\n",
       "      <th>233</th>\n",
       "      <td>2019 (92nd)</td>\n",
       "      <td>Jonathan Pryce</td>\n",
       "      <td>Cardinal Jorge Mario Bergoglio</td>\n",
       "      <td>The Two Popes</td>\n",
       "      <td>[102]</td>\n",
       "      <td>NaN</td>\n",
       "      <td>nm0000596</td>\n",
       "    </tr>\n",
       "    <tr>\n",
       "      <th>234</th>\n",
       "      <td>2020/21[103] (93rd)</td>\n",
       "      <td>Riz Ahmed</td>\n",
       "      <td>Ruben Stone</td>\n",
       "      <td>Sound of Metal</td>\n",
       "      <td>[104]</td>\n",
       "      <td>NaN</td>\n",
       "      <td>nm1981893</td>\n",
       "    </tr>\n",
       "  </tbody>\n",
       "</table>\n",
       "</div>"
      ],
      "text/plain": [
       "                    Year              Actor                         Role(s)  \\\n",
       "227          2017 (90th)  Timoth_e Chalamet                    Elio Perlman   \n",
       "228          2017 (90th)     Daniel Kaluuya                Chris Washington   \n",
       "229          2018 (91st)         Rami Malek                 Freddie Mercury   \n",
       "230          2018 (91st)       Willem Dafoe                Vincent van Gogh   \n",
       "231          2019 (92nd)   Antonio Banderas                  Salvador Mallo   \n",
       "232          2019 (92nd)        Adam Driver                  Charlie Barber   \n",
       "233          2019 (92nd)     Jonathan Pryce  Cardinal Jorge Mario Bergoglio   \n",
       "234  2020/21[103] (93rd)          Riz Ahmed                     Ruben Stone   \n",
       "\n",
       "                     Film   Ref. Unnamed: 5         id  \n",
       "227  Call Me by Your Name  [100]        NaN  nm3154303  \n",
       "228               Get Out  [100]        NaN  nm2257207  \n",
       "229     Bohemian Rhapsody  [101]        NaN  nm1785339  \n",
       "230    At Eternity's Gate  [101]        NaN  nm0000353  \n",
       "231        Pain and Glory  [102]        NaN  nm0000104  \n",
       "232        Marriage Story  [102]        NaN  nm3485845  \n",
       "233         The Two Popes  [102]        NaN  nm0000596  \n",
       "234        Sound of Metal  [104]        NaN  nm1981893  "
      ]
     },
     "execution_count": 94,
     "metadata": {},
     "output_type": "execute_result"
    }
   ],
   "source": [
    "df_index.iloc[227:235]"
   ]
  },
  {
   "cell_type": "code",
   "execution_count": null,
   "metadata": {},
   "outputs": [],
   "source": []
  }
 ],
 "metadata": {
  "kernelspec": {
   "display_name": "Python 3",
   "language": "python",
   "name": "python3"
  },
  "language_info": {
   "codemirror_mode": {
    "name": "ipython",
    "version": 3
   },
   "file_extension": ".py",
   "mimetype": "text/x-python",
   "name": "python",
   "nbconvert_exporter": "python",
   "pygments_lexer": "ipython3",
   "version": "3.8.3"
  }
 },
 "nbformat": 4,
 "nbformat_minor": 5
}
